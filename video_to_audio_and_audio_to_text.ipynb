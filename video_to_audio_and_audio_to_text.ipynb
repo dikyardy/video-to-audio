{
  "nbformat": 4,
  "nbformat_minor": 0,
  "metadata": {
    "colab": {
      "provenance": [],
      "authorship_tag": "ABX9TyMkw3PO2LHUUkZSmFzgCq7t",
      "include_colab_link": true
    },
    "kernelspec": {
      "name": "python3",
      "display_name": "Python 3"
    },
    "language_info": {
      "name": "python"
    }
  },
  "cells": [
    {
      "cell_type": "markdown",
      "metadata": {
        "id": "view-in-github",
        "colab_type": "text"
      },
      "source": [
        "<a href=\"https://colab.research.google.com/github/dikyardy/video-to-audio/blob/main/video_to_audio_and_audio_to_text.ipynb\" target=\"_parent\"><img src=\"https://colab.research.google.com/assets/colab-badge.svg\" alt=\"Open In Colab\"/></a>"
      ]
    },
    {
      "cell_type": "code",
      "execution_count": null,
      "metadata": {
        "colab": {
          "base_uri": "https://localhost:8080/"
        },
        "id": "z4RzwATlUkzf",
        "outputId": "2886c73c-bfde-41b6-9dba-b9f9145331e6"
      },
      "outputs": [
        {
          "output_type": "stream",
          "name": "stdout",
          "text": [
            "Looking in indexes: https://pypi.org/simple, https://us-python.pkg.dev/colab-wheels/public/simple/\n",
            "Collecting ffmpeg\n",
            "  Downloading ffmpeg-1.4.tar.gz (5.1 kB)\n",
            "Requirement already satisfied: moviepy in /usr/local/lib/python3.8/dist-packages (0.2.3.5)\n",
            "Requirement already satisfied: numpy in /usr/local/lib/python3.8/dist-packages (from moviepy) (1.21.6)\n",
            "Requirement already satisfied: imageio<3.0,>=2.1.2 in /usr/local/lib/python3.8/dist-packages (from moviepy) (2.9.0)\n",
            "Requirement already satisfied: tqdm<5.0,>=4.11.2 in /usr/local/lib/python3.8/dist-packages (from moviepy) (4.64.1)\n",
            "Requirement already satisfied: decorator<5.0,>=4.0.2 in /usr/local/lib/python3.8/dist-packages (from moviepy) (4.4.2)\n",
            "Requirement already satisfied: pillow in /usr/local/lib/python3.8/dist-packages (from imageio<3.0,>=2.1.2->moviepy) (7.1.2)\n",
            "Building wheels for collected packages: ffmpeg\n",
            "  Building wheel for ffmpeg (setup.py) ... \u001b[?25l\u001b[?25hdone\n",
            "  Created wheel for ffmpeg: filename=ffmpeg-1.4-py3-none-any.whl size=6084 sha256=5f5606efe8b16c8eba9e652970bd437e37d254e7eccad6b66792b5c832a82b52\n",
            "  Stored in directory: /root/.cache/pip/wheels/30/33/46/5ab7eca55b9490dddbf3441c68a29535996270ef1ce8b9b6d7\n",
            "Successfully built ffmpeg\n",
            "Installing collected packages: ffmpeg\n",
            "Successfully installed ffmpeg-1.4\n"
          ]
        }
      ],
      "source": [
        "!pip install ffmpeg moviepy"
      ]
    },
    {
      "cell_type": "code",
      "source": [
        "!pip install imageio-ffmpeg"
      ],
      "metadata": {
        "colab": {
          "base_uri": "https://localhost:8080/"
        },
        "id": "xPNzaqXUU1Bh",
        "outputId": "c0d1775a-ef6e-4462-9c89-0948ec240135"
      },
      "execution_count": null,
      "outputs": [
        {
          "output_type": "stream",
          "name": "stdout",
          "text": [
            "Looking in indexes: https://pypi.org/simple, https://us-python.pkg.dev/colab-wheels/public/simple/\n",
            "Collecting imageio-ffmpeg\n",
            "  Downloading imageio_ffmpeg-0.4.7-py3-none-manylinux2010_x86_64.whl (26.9 MB)\n",
            "\u001b[K     |████████████████████████████████| 26.9 MB 1.3 MB/s \n",
            "\u001b[?25hInstalling collected packages: imageio-ffmpeg\n",
            "Successfully installed imageio-ffmpeg-0.4.7\n"
          ]
        }
      ]
    },
    {
      "cell_type": "code",
      "source": [
        "!pip install --upgrade moviepy"
      ],
      "metadata": {
        "colab": {
          "base_uri": "https://localhost:8080/"
        },
        "id": "nnywwxhZU6s3",
        "outputId": "e5cc6068-a2c9-40c6-d9da-b8424103c39a"
      },
      "execution_count": null,
      "outputs": [
        {
          "output_type": "stream",
          "name": "stdout",
          "text": [
            "Looking in indexes: https://pypi.org/simple, https://us-python.pkg.dev/colab-wheels/public/simple/\n",
            "Requirement already satisfied: moviepy in /usr/local/lib/python3.8/dist-packages (0.2.3.5)\n",
            "Collecting moviepy\n",
            "  Downloading moviepy-1.0.3.tar.gz (388 kB)\n",
            "\u001b[K     |████████████████████████████████| 388 kB 5.0 MB/s \n",
            "\u001b[?25hRequirement already satisfied: decorator<5.0,>=4.0.2 in /usr/local/lib/python3.8/dist-packages (from moviepy) (4.4.2)\n",
            "Requirement already satisfied: tqdm<5.0,>=4.11.2 in /usr/local/lib/python3.8/dist-packages (from moviepy) (4.64.1)\n",
            "Requirement already satisfied: requests<3.0,>=2.8.1 in /usr/local/lib/python3.8/dist-packages (from moviepy) (2.23.0)\n",
            "Collecting proglog<=1.0.0\n",
            "  Downloading proglog-0.1.10-py3-none-any.whl (6.1 kB)\n",
            "Requirement already satisfied: numpy>=1.17.3 in /usr/local/lib/python3.8/dist-packages (from moviepy) (1.21.6)\n",
            "Requirement already satisfied: imageio<3.0,>=2.5 in /usr/local/lib/python3.8/dist-packages (from moviepy) (2.9.0)\n",
            "Requirement already satisfied: imageio_ffmpeg>=0.2.0 in /usr/local/lib/python3.8/dist-packages (from moviepy) (0.4.7)\n",
            "Requirement already satisfied: pillow in /usr/local/lib/python3.8/dist-packages (from imageio<3.0,>=2.5->moviepy) (7.1.2)\n",
            "Requirement already satisfied: idna<3,>=2.5 in /usr/local/lib/python3.8/dist-packages (from requests<3.0,>=2.8.1->moviepy) (2.10)\n",
            "Requirement already satisfied: certifi>=2017.4.17 in /usr/local/lib/python3.8/dist-packages (from requests<3.0,>=2.8.1->moviepy) (2022.12.7)\n",
            "Requirement already satisfied: urllib3!=1.25.0,!=1.25.1,<1.26,>=1.21.1 in /usr/local/lib/python3.8/dist-packages (from requests<3.0,>=2.8.1->moviepy) (1.24.3)\n",
            "Requirement already satisfied: chardet<4,>=3.0.2 in /usr/local/lib/python3.8/dist-packages (from requests<3.0,>=2.8.1->moviepy) (3.0.4)\n",
            "Building wheels for collected packages: moviepy\n",
            "  Building wheel for moviepy (setup.py) ... \u001b[?25l\u001b[?25hdone\n",
            "  Created wheel for moviepy: filename=moviepy-1.0.3-py3-none-any.whl size=110742 sha256=74e91aebb52448b85daefc88eef6b37e3879fba62098b8a3fe70340685f928f0\n",
            "  Stored in directory: /root/.cache/pip/wheels/e4/a4/db/0368d3a04033da662e13926594b3a8cf1aa4ffeefe570cfac1\n",
            "Successfully built moviepy\n",
            "Installing collected packages: proglog, moviepy\n",
            "  Attempting uninstall: moviepy\n",
            "    Found existing installation: moviepy 0.2.3.5\n",
            "    Uninstalling moviepy-0.2.3.5:\n",
            "      Successfully uninstalled moviepy-0.2.3.5\n",
            "Successfully installed moviepy-1.0.3 proglog-0.1.10\n"
          ]
        }
      ]
    },
    {
      "cell_type": "code",
      "source": [
        "import imageio\n",
        "from moviepy.editor import *\n",
        "import moviepy.editor as mp\n",
        "\n",
        "my_clip = mp.VideoFileClip(r\"/content/sample.mp4\")\n",
        "\n",
        "my_clip"
      ],
      "metadata": {
        "colab": {
          "base_uri": "https://localhost:8080/"
        },
        "id": "qsk1XXuXVBhq",
        "outputId": "8c9b2615-7ffd-497b-b427-c54e848e8d91"
      },
      "execution_count": null,
      "outputs": [
        {
          "output_type": "execute_result",
          "data": {
            "text/plain": [
              "<moviepy.video.io.VideoFileClip.VideoFileClip at 0x7f54ff813850>"
            ]
          },
          "metadata": {},
          "execution_count": 8
        }
      ]
    },
    {
      "cell_type": "code",
      "source": [
        "my_clip.audio.write_audiofile(r\"my_audio.wav\")"
      ],
      "metadata": {
        "colab": {
          "base_uri": "https://localhost:8080/"
        },
        "id": "CU_-tFGDVI3o",
        "outputId": "dfa70c41-850f-42d0-8cf5-2d78acfbba43"
      },
      "execution_count": null,
      "outputs": [
        {
          "output_type": "stream",
          "name": "stdout",
          "text": [
            "MoviePy - Writing audio in my_audio.wav\n"
          ]
        },
        {
          "output_type": "stream",
          "name": "stderr",
          "text": [
            "                                                                      "
          ]
        },
        {
          "output_type": "stream",
          "name": "stdout",
          "text": [
            "MoviePy - Done.\n"
          ]
        },
        {
          "output_type": "stream",
          "name": "stderr",
          "text": [
            "\r"
          ]
        }
      ]
    },
    {
      "cell_type": "code",
      "source": [
        "!pip3 install SpeechRecognition"
      ],
      "metadata": {
        "id": "6urXLIzrIbxK",
        "outputId": "bc7d5cc6-c4a6-43b0-907e-c208af9d4d37",
        "colab": {
          "base_uri": "https://localhost:8080/"
        }
      },
      "execution_count": null,
      "outputs": [
        {
          "output_type": "stream",
          "name": "stdout",
          "text": [
            "Looking in indexes: https://pypi.org/simple, https://us-python.pkg.dev/colab-wheels/public/simple/\n",
            "Requirement already satisfied: SpeechRecognition in /usr/local/lib/python3.8/dist-packages (3.9.0)\n",
            "Requirement already satisfied: requests>=2.26.0 in /usr/local/lib/python3.8/dist-packages (from SpeechRecognition) (2.28.1)\n",
            "Requirement already satisfied: certifi>=2017.4.17 in /usr/local/lib/python3.8/dist-packages (from requests>=2.26.0->SpeechRecognition) (2022.12.7)\n",
            "Requirement already satisfied: charset-normalizer<3,>=2 in /usr/local/lib/python3.8/dist-packages (from requests>=2.26.0->SpeechRecognition) (2.1.1)\n",
            "Requirement already satisfied: idna<4,>=2.5 in /usr/local/lib/python3.8/dist-packages (from requests>=2.26.0->SpeechRecognition) (2.10)\n",
            "Requirement already satisfied: urllib3<1.27,>=1.21.1 in /usr/local/lib/python3.8/dist-packages (from requests>=2.26.0->SpeechRecognition) (1.24.3)\n"
          ]
        }
      ]
    },
    {
      "cell_type": "code",
      "source": [
        "import speech_recognition as sr\n",
        "\n",
        "# Baca file audio\n",
        "r = sr.Recognizer()\n",
        "with sr.AudioFile('/content/my_audio.wav') as source:\n",
        "    audio = r.record(source)\n",
        "\n",
        "# Ubah audio menjadi teks\n",
        "text = r.recognize_google(audio, language = \"id-ID\")\n",
        "\n",
        "# Cetak hasilnya\n",
        "print(text)"
      ],
      "metadata": {
        "id": "V2mLqj3SJXpj",
        "outputId": "bf7805d9-f38f-479b-cf6a-5a74eed1ec5d",
        "colab": {
          "base_uri": "https://localhost:8080/"
        }
      },
      "execution_count": null,
      "outputs": [
        {
          "output_type": "stream",
          "name": "stdout",
          "text": [
            "result2:\n",
            "{   'alternative': [   {   'confidence': 0.93936038,\n",
            "                           'transcript': 'Oke jadi gue mau cerita sedikit '\n",
            "                                         'tentang keseharian gue membosankan '\n",
            "                                         'bosen banget nah kan belum juga '\n",
            "                                         'diceritain udah bosen jadi karena '\n",
            "                                         'bosan gue mulai berpikir OK Google '\n",
            "                                         'siapa aja begini singkat cerita udah '\n",
            "                                         'malam gue selesai mandi dan gosok '\n",
            "                                         'gigi minum kacamata yamata sendiri '\n",
            "                                         'dong nah gue ngerasa ngantuk ya udah '\n",
            "                                         'gua matiin lampu dan tidur bentar '\n",
            "                                         'bentar ini kejauhan lagi karena gue '\n",
            "                                         'udah mulai merasa bosan mikirin '\n",
            "                                         'gimana caranya biar gua nggak bosan '\n",
            "                                         'lagi ya udah gue coba nonton film '\n",
            "                                         'kayaknya mood gua waktu itu lagi '\n",
            "                                         'nggak bagus buat nonton film jadi '\n",
            "                                         'gue mutusin gue duduk lagi buka lagi '\n",
            "                                         'bosen gini biasanya suka ngehalu '\n",
            "                                         'Kayaknya enak deh Aku lagi bosen '\n",
            "                                         'gini tiba-tiba jadi presiden ya '\n",
            "                                         'jangan yang itu juga dong kayaknya '\n",
            "                                         'enak ya kalau lagi bosen gini '\n",
            "                                         'Telepon gebetan lagi terus diajak '\n",
            "                                         'main lagi kayak kemarin nungguin '\n",
            "                                         'apaan Kagak deh kagak tiba-tiba '\n",
            "                                         'nelpon untuk ngajak lu main lagi '\n",
            "                                         'kayak kemarin lah anjir Beneran '\n",
            "                                         'nggak ininya doang kok seberapa '\n",
            "                                         'membosankan nyari gua kan udah bosan '\n",
            "                                         'bosan ya udah gua keluar aja buat '\n",
            "                                         'beli makan jadi gua udah mesen '\n",
            "                                         'makanan dan tinggal nunggu '\n",
            "                                         'makanannya aja kalau udah bosen '\n",
            "                                         'nunggu makanan gua nggak ke atas '\n",
            "                                         'bawah kiri kanan lah Maaf ya aku '\n",
            "                                         'habis dari kamar mandi dulu anak '\n",
            "                                         'yang belum makan namanya tadi jalan '\n",
            "                                         'belum sih emang ada apaan macet ada '\n",
            "                                         'mobil motor ada juga saya kenapa '\n",
            "                                         'baru mau tanya aku tahu Oh iya ya '\n",
            "                                         'tapi kalau mau ngisi baru kan jadi '\n",
            "                                         'angkot elu sih kamu udah makan Aku '\n",
            "                                         'udah makan udah mending lu diem aja '\n",
            "                                         'deh Eh jangan diam juga nanti malam '\n",
            "                                         'Kenapa TG kamu aja kamu aja bentar '\n",
            "                                         'bentar gantian ngomongnya ah nggak '\n",
            "                                         'sih kok sama ini kemarin dapat dari '\n",
            "                                         'Cici kok aku sukanya warna pink aku '\n",
            "                                         'mau ngomong ngomong apa ya bingung '\n",
            "                                         'bingung aku udah suka sama kamu Kamu '\n",
            "                                         'mau nggak kalau kita pacaran Jadi '\n",
            "                                         'gimana tadi udah habis quota halulu '\n",
            "                                         'Bangun bro jangan malu mulu lu mati '\n",
            "                                         'sono badan Ubahlah ar-rahman jadi '\n",
            "                                         'itu sih kurang lebih keseharian gue '\n",
            "                                         'membosankan jika cerita udah malam '\n",
            "                                         'gue selesai mandi dan gosok gigi '\n",
            "                                         'minum kucek mata ya mata sendiri '\n",
            "                                         'dong nah gue ngerasa ngantuk ya udah '\n",
            "                                         'gua matiin lampu dan tidur Halo all '\n",
            "                                         'Jadi gimana Kamu mau nggak'},\n",
            "                       {   'transcript': 'Oke jadi gue mau cerita sedikit '\n",
            "                                         'tentang keseharian gue membosankan '\n",
            "                                         'bosen banget nah kan belum juga '\n",
            "                                         'diceritain udah bosen jadi karena '\n",
            "                                         'bosan gue mulai berpikir OK Google '\n",
            "                                         'siapa aja begini singkat cerita udah '\n",
            "                                         'malam gue selesai mandi dan gosok '\n",
            "                                         'gigi minum kacamata yamata sendiri '\n",
            "                                         'dong nah gue ngerasa ngantuk ya udah '\n",
            "                                         'gua matiin lampu dan tidur bentar '\n",
            "                                         'bentar ini kejauhan lagi karena gue '\n",
            "                                         'udah mulai merasa bosan mikirin '\n",
            "                                         'gimana caranya biar gua nggak bosan '\n",
            "                                         'lagi ya udah gue coba nonton film '\n",
            "                                         'kayaknya mood gua waktu itu lagi '\n",
            "                                         'nggak bagus buat nonton film jadi '\n",
            "                                         'gue mutusin gue duduk lagi buka lagi '\n",
            "                                         'bosen gini biasanya suka ngehalu '\n",
            "                                         'Kayaknya enak deh Aku lagi bosen '\n",
            "                                         'gini tiba-tiba jadi presiden ya '\n",
            "                                         'jangan yang itu juga dong kayaknya '\n",
            "                                         'enak ya kalau lagi bosen gini '\n",
            "                                         'Telepon gebetan lagi terus diajak '\n",
            "                                         'main lagi kayak kemarin nungguin '\n",
            "                                         'apaan Kagak deh kagak tiba-tiba '\n",
            "                                         'nelpon untuk ngajak lu main lagi '\n",
            "                                         'kayak kemarin lah anjir Beneran '\n",
            "                                         'nggak ininya doang kok seberapa '\n",
            "                                         'membosankan nyari gua kan udah bosan '\n",
            "                                         'bosan ya udah gua keluar aja buat '\n",
            "                                         'beli makan jadi gua udah mesen '\n",
            "                                         'makanan dan tinggal nunggu '\n",
            "                                         'makanannya aja kalau udah bosen '\n",
            "                                         'nunggu makanan gua nggak ke atas '\n",
            "                                         'bawah kiri kanan lah Maaf ya aku '\n",
            "                                         'habis dari kamar mandi dulu anak '\n",
            "                                         'yang belum makan namanya tadi jalan '\n",
            "                                         'belum sih emang ada apaan macet ada '\n",
            "                                         'mobil motor ada juga saya kenapa '\n",
            "                                         'baru mau tanya aku tahu Oh iya ya '\n",
            "                                         'tapi kalau mau ngisi baru kan jadi '\n",
            "                                         'angkot elu sih kamu udah makan Aku '\n",
            "                                         'udah makan udah mending lu diem aja '\n",
            "                                         'deh Eh jangan diam juga nanti malam '\n",
            "                                         'Kenapa TG kamu aja kamu aja bentar '\n",
            "                                         'bentar gantian ngomongnya ah nggak '\n",
            "                                         'sih kok sama ini kemarin dapat dari '\n",
            "                                         'Cici kok aku sukanya warna pink aku '\n",
            "                                         'mau ngomong ngomong apa ya bingung '\n",
            "                                         'bingung aku udah suka sama kamu Kamu '\n",
            "                                         'mau nggak kalau kita pacaran Jadi '\n",
            "                                         'gimana tadi udah habis quota halulu '\n",
            "                                         'Bangun bro jangan malu mulu lu mati '\n",
            "                                         'sono badan Ubahlah ar-rahman jadi '\n",
            "                                         'itu sih kurang lebih keseharian gue '\n",
            "                                         'membosankan jika cerita udah malam '\n",
            "                                         'gue selesai mandi dan gosok gigi '\n",
            "                                         'minum kucek mata ya mata sendiri '\n",
            "                                         'dong nah gue ngerasa ngantuk ya udah '\n",
            "                                         'gua matiin lampu dan tidur Halo Al '\n",
            "                                         'Jadi gimana Kamu mau nggak'},\n",
            "                       {   'transcript': 'Oke jadi gue mau cerita sedikit '\n",
            "                                         'tentang keseharian gue membosankan '\n",
            "                                         'bosen banget nah kan belum juga '\n",
            "                                         'diceritain udah bosen jadi karena '\n",
            "                                         'bosan gue mulai berpikir OK Google '\n",
            "                                         'siapa aja begini singkat cerita udah '\n",
            "                                         'malam gue selesai mandi dan gosok '\n",
            "                                         'gigi minum kacamata yamata sendiri '\n",
            "                                         'dong nah gue ngerasa ngantuk ya udah '\n",
            "                                         'gua matiin lampu dan tidur bentar '\n",
            "                                         'bentar ini kejauhan lagi karena gue '\n",
            "                                         'udah mulai merasa bosan mikirin '\n",
            "                                         'gimana caranya biar gua nggak bosan '\n",
            "                                         'lagi ya udah gue coba nonton film '\n",
            "                                         'kayaknya mood gua waktu itu lagi '\n",
            "                                         'nggak bagus buat nonton film jadi '\n",
            "                                         'gue mutusin gue duduk lagi buka lagi '\n",
            "                                         'bosen gini biasanya suka ngehalu '\n",
            "                                         'Kayaknya enak deh Aku lagi bosen '\n",
            "                                         'gini tiba-tiba jadi presiden ya '\n",
            "                                         'jangan yang itu juga dong kayaknya '\n",
            "                                         'enak ya kalau lagi bosen gini '\n",
            "                                         'Telepon gebetan lagi terus diajak '\n",
            "                                         'main lagi kayak kemarin nungguin '\n",
            "                                         'apaan Kagak deh kagak tiba-tiba '\n",
            "                                         'nelpon untuk ngajak lu main lagi '\n",
            "                                         'kayak kemarin lah anjir Beneran '\n",
            "                                         'nggak ininya doang kok seberapa '\n",
            "                                         'membosankan nyari gua kan udah bosan '\n",
            "                                         'bosan ya udah gua keluar aja buat '\n",
            "                                         'beli makan jadi gua udah mesen '\n",
            "                                         'makanan dan tinggal nunggu '\n",
            "                                         'makanannya aja kalau udah bosen '\n",
            "                                         'nunggu makanan gua nggak ke atas '\n",
            "                                         'bawah kiri kanan lah Maaf ya aku '\n",
            "                                         'habis dari kamar mandi dulu anak '\n",
            "                                         'yang belum makan namanya tadi jalan '\n",
            "                                         'belum sih emang ada apaan macet ada '\n",
            "                                         'mobil motor ada juga saya kenapa '\n",
            "                                         'baru mau tanya aku tahu Oh iya ya '\n",
            "                                         'tapi kalau mau ngisi baru kan jadi '\n",
            "                                         'angkot elu sih kamu udah makan Aku '\n",
            "                                         'udah makan udah mending lu diem aja '\n",
            "                                         'deh Eh jangan diam juga nanti malam '\n",
            "                                         'Kenapa TG kamu aja kamu aja bentar '\n",
            "                                         'bentar gantian ngomongnya ah nggak '\n",
            "                                         'sih kok sama Enggak ini kemarin '\n",
            "                                         'dapat dari Cici kok aku sukanya '\n",
            "                                         'warna pink aku mau ngomong ngomong '\n",
            "                                         'apa ya bingung bingung aku udah suka '\n",
            "                                         'sama kamu Kamu mau nggak kalau kita '\n",
            "                                         'pacaran Jadi gimana tadi udah habis '\n",
            "                                         'quota halulu Bangun bro jangan malu '\n",
            "                                         'mulu lu mati sono badan Ubahlah '\n",
            "                                         'ar-rahman jadi itu sih kurang lebih '\n",
            "                                         'keseharian gue membosankan jika '\n",
            "                                         'cerita udah malam gue selesai mandi '\n",
            "                                         'dan gosok gigi minum kucek mata ya '\n",
            "                                         'mata sendiri dong nah gue ngerasa '\n",
            "                                         'ngantuk ya udah gua matiin lampu dan '\n",
            "                                         'tidur Halo all Jadi gimana Kamu mau '\n",
            "                                         'nggak'},\n",
            "                       {   'transcript': 'Oke jadi gue mau cerita sedikit '\n",
            "                                         'tentang keseharian gue membosankan '\n",
            "                                         'bosen banget nah kan belum juga '\n",
            "                                         'diceritain udah bosen jadi karena '\n",
            "                                         'bosan gue mulai berpikir OK Google '\n",
            "                                         'siapa aja begini singkat cerita udah '\n",
            "                                         'malam gue selesai mandi dan gosok '\n",
            "                                         'gigi minum kacamata yamata sendiri '\n",
            "                                         'dong nah gue ngerasa ngantuk ya udah '\n",
            "                                         'gua matiin lampu dan tidur bentar '\n",
            "                                         'bentar ini kejauhan lagi karena gue '\n",
            "                                         'udah mulai merasa bosan mikirin '\n",
            "                                         'gimana caranya biar gua nggak bosan '\n",
            "                                         'lagi ya udah gue coba nonton film '\n",
            "                                         'kayaknya mood gua waktu itu lagi '\n",
            "                                         'nggak bagus buat nonton film jadi '\n",
            "                                         'gue mutusin gue duduk lagi buka lagi '\n",
            "                                         'bosen gini biasanya suka ngehalu '\n",
            "                                         'Kayaknya enak deh Aku lagi bosen '\n",
            "                                         'gini tiba-tiba jadi presiden ya '\n",
            "                                         'jangan yang itu juga dong kayaknya '\n",
            "                                         'enak ya kalau lagi bosen gini '\n",
            "                                         'Telepon gebetan lagi terus diajak '\n",
            "                                         'main lagi kayak kemarin nungguin '\n",
            "                                         'apaan Kagak deh kagak tiba-tiba '\n",
            "                                         'nelpon untuk ngajak lu main lagi '\n",
            "                                         'kayak kemarin lah anjir Beneran '\n",
            "                                         'nggak ininya doang kok seberapa '\n",
            "                                         'membosankan nyari gua kan udah bosan '\n",
            "                                         'bosan ya udah gua keluar aja buat '\n",
            "                                         'beli makan jadi gua udah mesen '\n",
            "                                         'makanan dan tinggal nunggu '\n",
            "                                         'makanannya aja kalau udah bosen '\n",
            "                                         'nunggu makanan gua nggak ke atas '\n",
            "                                         'bawah kiri kanan lah Maaf ya aku '\n",
            "                                         'habis dari kamar mandi dulu anak '\n",
            "                                         'yang belum makan namanya tadi jalan '\n",
            "                                         'belum sih emang ada apaan macet ada '\n",
            "                                         'mobil motor ada juga saya kenapa '\n",
            "                                         'baru mau tanya aku tahu Oh iya ya '\n",
            "                                         'tapi kalau mau ngisi baru kan jadi '\n",
            "                                         'angkot elu sih kamu udah makan Aku '\n",
            "                                         'udah makan udah mending lu diem aja '\n",
            "                                         'deh Eh jangan diam juga nanti malam '\n",
            "                                         'Kenapa TG kamu aja kamu aja bentar '\n",
            "                                         'bentar gantian ngomongnya ah nggak '\n",
            "                                         'sih kok sama ini kemarin dapat dari '\n",
            "                                         'Cici kok aku sukanya warna pink aku '\n",
            "                                         'mau ngomong ngomong apa ya bingung '\n",
            "                                         'bingung aku udah suka sama kamu Kamu '\n",
            "                                         'mau nggak kalau kita pacaran Jadi '\n",
            "                                         'gimana tadi udah habis quota Halo '\n",
            "                                         'Bangun bro jangan malu mulu lu mati '\n",
            "                                         'sono badan Ubahlah ar-rahman jadi '\n",
            "                                         'itu sih kurang lebih keseharian gue '\n",
            "                                         'membosankan jika cerita udah malam '\n",
            "                                         'gue selesai mandi dan gosok gigi '\n",
            "                                         'minum kucek mata ya mata sendiri '\n",
            "                                         'dong nah gue ngerasa ngantuk ya udah '\n",
            "                                         'gua matiin lampu dan tidur Halo all '\n",
            "                                         'Jadi gimana Kamu mau nggak'},\n",
            "                       {   'transcript': 'Oke jadi gue mau cerita sedikit '\n",
            "                                         'tentang keseharian gue membosankan '\n",
            "                                         'bosen banget nah kan belum juga '\n",
            "                                         'diceritain udah bosen jadi karena '\n",
            "                                         'bosan gue mulai berpikir OK Google '\n",
            "                                         'siapa aja begini singkat cerita udah '\n",
            "                                         'malam gue selesai mandi dan gosok '\n",
            "                                         'gigi minum kacamata yamata sendiri '\n",
            "                                         'dong nah gue ngerasa ngantuk ya udah '\n",
            "                                         'gua matiin lampu dan tidur bentar '\n",
            "                                         'bentar ini kejauhan lagi karena gue '\n",
            "                                         'udah mulai merasa bosan mikirin '\n",
            "                                         'gimana caranya biar gua nggak bosan '\n",
            "                                         'lagi ya udah gue coba nonton film '\n",
            "                                         'kayaknya mood gua waktu itu lagi '\n",
            "                                         'nggak bagus buat nonton film jadi '\n",
            "                                         'gue mutusin gue duduk lagi buka lagi '\n",
            "                                         'bosen gini biasanya suka ngehalu '\n",
            "                                         'Kayaknya enak deh Aku lagi bosen '\n",
            "                                         'gini tiba-tiba jadi presiden ya '\n",
            "                                         'jangan yang itu juga dong kayaknya '\n",
            "                                         'enak ya kalau lagi bosen gini '\n",
            "                                         'Telepon gebetan lagi terus diajak '\n",
            "                                         'main lagi kayak kemarin nungguin '\n",
            "                                         'apaan Kagak deh kagak tiba-tiba '\n",
            "                                         'nelpon untuk ngajak lu main lagi '\n",
            "                                         'kayak kemarin lah anjir Beneran '\n",
            "                                         'nggak ininya doang kok seberapa '\n",
            "                                         'membosankan nyari gua kan udah bosan '\n",
            "                                         'bosan ya udah gua keluar aja buat '\n",
            "                                         'beli makan jadi gua udah mesen '\n",
            "                                         'makanan dan tinggal nunggu '\n",
            "                                         'makanannya aja kalau udah bosen '\n",
            "                                         'nunggu makanan gua nggak ke atas '\n",
            "                                         'bawah kiri kanan lah Maaf ya aku '\n",
            "                                         'habis dari kamar mandi dulu anak '\n",
            "                                         'yang belum makan namanya tadi jalan '\n",
            "                                         'belum sih emang ada apaan macet ada '\n",
            "                                         'mobil motor ada juga saya kenapa '\n",
            "                                         'baru mau tanya aku tahu Oh iya ya '\n",
            "                                         'tapi kalau mau ngisi baru kan jadi '\n",
            "                                         'angkot elu sih kamu udah makan Aku '\n",
            "                                         'udah makan udah mending lu diem aja '\n",
            "                                         'deh Eh jangan diam juga nanti malam '\n",
            "                                         'Kenapa TG kamu aja kamu aja bentar '\n",
            "                                         'bentar gantian ngomongnya ah nggak '\n",
            "                                         'sih kok sama Enggak ini kemarin '\n",
            "                                         'dapat dari Cici kok aku sukanya '\n",
            "                                         'warna pink aku mau ngomong ngomong '\n",
            "                                         'apa ya bingung bingung aku udah suka '\n",
            "                                         'sama kamu Kamu mau nggak kalau kita '\n",
            "                                         'pacaran Jadi gimana tadi udah habis '\n",
            "                                         'quota halulu Bangun bro jangan malu '\n",
            "                                         'mulu lu mati sono badan Ubahlah '\n",
            "                                         'ar-rahman jadi itu sih kurang lebih '\n",
            "                                         'keseharian gue membosankan jika '\n",
            "                                         'cerita udah malam gue selesai mandi '\n",
            "                                         'dan gosok gigi minum kucek mata ya '\n",
            "                                         'mata sendiri dong nah gue ngerasa '\n",
            "                                         'ngantuk ya udah gua matiin lampu dan '\n",
            "                                         'tidur Halo Al Jadi gimana Kamu mau '\n",
            "                                         'nggak'}],\n",
            "    'final': True}\n",
            "Oke jadi gue mau cerita sedikit tentang keseharian gue membosankan bosen banget nah kan belum juga diceritain udah bosen jadi karena bosan gue mulai berpikir OK Google siapa aja begini singkat cerita udah malam gue selesai mandi dan gosok gigi minum kacamata yamata sendiri dong nah gue ngerasa ngantuk ya udah gua matiin lampu dan tidur bentar bentar ini kejauhan lagi karena gue udah mulai merasa bosan mikirin gimana caranya biar gua nggak bosan lagi ya udah gue coba nonton film kayaknya mood gua waktu itu lagi nggak bagus buat nonton film jadi gue mutusin gue duduk lagi buka lagi bosen gini biasanya suka ngehalu Kayaknya enak deh Aku lagi bosen gini tiba-tiba jadi presiden ya jangan yang itu juga dong kayaknya enak ya kalau lagi bosen gini Telepon gebetan lagi terus diajak main lagi kayak kemarin nungguin apaan Kagak deh kagak tiba-tiba nelpon untuk ngajak lu main lagi kayak kemarin lah anjir Beneran nggak ininya doang kok seberapa membosankan nyari gua kan udah bosan bosan ya udah gua keluar aja buat beli makan jadi gua udah mesen makanan dan tinggal nunggu makanannya aja kalau udah bosen nunggu makanan gua nggak ke atas bawah kiri kanan lah Maaf ya aku habis dari kamar mandi dulu anak yang belum makan namanya tadi jalan belum sih emang ada apaan macet ada mobil motor ada juga saya kenapa baru mau tanya aku tahu Oh iya ya tapi kalau mau ngisi baru kan jadi angkot elu sih kamu udah makan Aku udah makan udah mending lu diem aja deh Eh jangan diam juga nanti malam Kenapa TG kamu aja kamu aja bentar bentar gantian ngomongnya ah nggak sih kok sama ini kemarin dapat dari Cici kok aku sukanya warna pink aku mau ngomong ngomong apa ya bingung bingung aku udah suka sama kamu Kamu mau nggak kalau kita pacaran Jadi gimana tadi udah habis quota halulu Bangun bro jangan malu mulu lu mati sono badan Ubahlah ar-rahman jadi itu sih kurang lebih keseharian gue membosankan jika cerita udah malam gue selesai mandi dan gosok gigi minum kucek mata ya mata sendiri dong nah gue ngerasa ngantuk ya udah gua matiin lampu dan tidur Halo all Jadi gimana Kamu mau nggak\n"
          ]
        }
      ]
    }
  ]
}